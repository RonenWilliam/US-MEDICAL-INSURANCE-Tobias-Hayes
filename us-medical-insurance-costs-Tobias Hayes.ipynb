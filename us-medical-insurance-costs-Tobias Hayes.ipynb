{
 "cells": [
  {
   "cell_type": "markdown",
   "metadata": {},
   "source": [
    "# U.S. Medical Insurance Costs"
   ]
  },
  {
   "cell_type": "markdown",
   "metadata": {},
   "source": [
    "Goal: In this project, a CSV file with medical insurance costs will be investigated using Python fundamentals. The goal with this project will be to analyze various attributes within insurance.csv to learn more about the patient information in the file and gain insight into potential use cases for the dataset.\n",
    "\n",
    "Actions: Provide the medical insurance industry with analysis to improve customer experience\n",
    "\n",
    "Analyses:,\n",
    " 1. Basic information.\n",
    " 2. Find out the average age of the patients in the dataset.\n",
    " 3. Analyze where a majority of the individuals are from.\n",
    " 4. Look at the different costs between smokers vs. non-smokers.\n",
    " 5. Figure out what the average age is for someone who has at least one child in this dataset."
   ]
  },
  {
   "cell_type": "markdown",
   "metadata": {},
   "source": [
    "First step: Load the dataset."
   ]
  },
  {
   "cell_type": "code",
   "execution_count": 9,
   "metadata": {},
   "outputs": [],
   "source": [
    "import csv\n",
    "full_data_set = []\n",
    "\n",
    "with open('insurance.csv', 'r') as insurance_csv_dataset:\n",
    "    csv_reader = csv.DictReader(insurance_csv_dataset)\n",
    "    for row in csv_reader:\n",
    "        full_data_set.append(row)\n",
    "        #print(full_data_set)\n",
    "        \n",
    "#Create separate lists for each category\n",
    "ages = []\n",
    "sexes = []\n",
    "bmis = []\n",
    "children = []\n",
    "smokers = []\n",
    "regions = []\n",
    "charges = []\n",
    "\n",
    "#Extract data from the full_data_set and populate the separate lists\n",
    "for data in full_data_set:\n",
    "    ages.append(int(data['age']))\n",
    "    sexes.append(data['sex'])\n",
    "    bmis.append(float(data['bmi']))\n",
    "    children.append(int(data['children']))\n",
    "    smokers.append(data['smoker'])\n",
    "    regions.append(data['region'])\n",
    "    charges.append(float(data['charges']))\n",
    "\n",
    "# Now you have separate lists for each category\\n\",\n",
    "#print(ages)\n",
    "#print(sexes)\n",
    "#print(bmis)\n",
    "#print(children)\n",
    "#print(smokers)\n",
    "#print(regions)\n",
    "#print(charges)"
   ]
  },
  {
   "cell_type": "code",
   "execution_count": 11,
   "metadata": {},
   "outputs": [
    {
     "name": "stdout",
     "output_type": "stream",
     "text": [
      "Total ammount of patients is:1338\n",
      "Total ammount of men is: 676\n",
      "Total ammount of women is: 662\n"
     ]
    }
   ],
   "source": [
    "#Basic data\n",
    "\n",
    "total_patients = len(full_data_set)\n",
    "print(\"Total ammount of patients is:\" + str(total_patients))\n",
    "\n",
    "def total_men_calculation(lst):\n",
    "    list_of_men = 0\n",
    "    for patient in lst:\n",
    "        if patient == 'male':\n",
    "            list_of_men += 1\n",
    "    return list_of_men\n",
    "\n",
    "def total_women_calculation(lst):\n",
    "    list_of_women = 0\n",
    "    for patient in lst:\n",
    "        if patient == 'female':\n",
    "            list_of_women += 1\n",
    "        \n",
    "    return list_of_women\n",
    "\n",
    "total_men = total_men_calculation(sexes)\n",
    "print(\"Total ammount of men is: \" + str(total_men))\n",
    "total_women = total_women_calculation(sexes)\n",
    "print(\"Total ammount of women is: \" + str(total_women))"
   ]
  },
  {
   "cell_type": "markdown",
   "metadata": {},
   "source": [
    "Build out analysis functions or class methods"
   ]
  },
  {
   "cell_type": "code",
   "execution_count": 13,
   "metadata": {},
   "outputs": [
    {
     "name": "stdout",
     "output_type": "stream",
     "text": [
      "The average age of the patients is: 39.2 years old\n"
     ]
    }
   ],
   "source": [
    "# Calculate the average age of the patients in the dataset\n",
    "average_age_patients = round(sum(ages) / len(ages), 1)\n",
    "print(\"The average age of the patients is:\", average_age_patients, \"years old\")"
   ]
  },
  {
   "cell_type": "code",
   "execution_count": 20,
   "metadata": {},
   "outputs": [
    {
     "name": "stdout",
     "output_type": "stream",
     "text": [
      "['southwest', 'southeast', 'northwest', 'northeast']\n",
      "In southwest, there are 325 patients.\n",
      "In southeast, there are 364 patients.\n",
      "In northwest, there are 325 patients.\n",
      "In northeast, there are 324 patients.\n",
      "None\n"
     ]
    }
   ],
   "source": [
    "# Analyze where a majority of the individuals are from.\n",
    "\n",
    "# First, find unique regions\n",
    "def unique_regions(lst):\n",
    "    unique_regions_list = []\n",
    "    for region in lst:\n",
    "        if region not in unique_regions_list:\n",
    "            unique_regions_list.append(region)\n",
    "    return unique_regions_list\n",
    "\n",
    "print(unique_regions(regions))\n",
    "\n",
    "def majority_indiv_regions(lst):\n",
    "    southwest = 0\n",
    "    southeast = 0\n",
    "    northwest = 0\n",
    "    northeast = 0\n",
    "    \n",
    "    for region in lst:\n",
    "        if region == 'southwest':\n",
    "            southwest += 1\n",
    "        elif region == 'southeast':\n",
    "            southeast += 1\n",
    "        elif region == 'northwest':\n",
    "            northwest += 1\n",
    "        elif region == 'northeast':\n",
    "            northeast += 1\n",
    "            \n",
    "    print(\"In southwest, there are \" + str(southwest) + \" patients.\")\n",
    "    print(\"In southeast, there are \" + str(southeast) + \" patients.\")\n",
    "    print(\"In northwest, there are \" + str(northwest) + \" patients.\")\n",
    "    print(\"In northeast, there are \" + str(northeast) + \" patients.\")\n",
    "\n",
    "print(majority_indiv_regions(regions))"
   ]
  },
  {
   "cell_type": "code",
   "execution_count": 16,
   "metadata": {},
   "outputs": [
    {
     "name": "stdout",
     "output_type": "stream",
     "text": [
      "The average smokers insurance cost is: 32050.23183153285 dollars.\n",
      "The average non-smokers insurance cost is: 8434.268297856199 dollars.\n",
      "The difference in costs on average is: 23615.96353367665 dollars.\n",
      "None\n"
     ]
    }
   ],
   "source": [
    "# Look at the different costs between smokers vs. non-smokers.\n",
    "\n",
    "# Combine smoker and costs\n",
    "\n",
    "smoker_costs = list(zip(smokers, charges))\n",
    "\n",
    "# Define a function to calculate the average cost difference between smokers and non-smokers\n",
    "\n",
    "def average_cost_difference_smoker_vs_nonsmokers(smokercosts):\n",
    "    \n",
    "    smoker_costs_smoker = 0\n",
    "    num_smokers = 0\n",
    "    smoker_costs_non_smoker = 0\n",
    "    num_non_smokers = 0\n",
    "    \n",
    "    for smoker in smokercosts:\n",
    "        if smoker[0] == 'yes':\n",
    "            smoker_costs_smoker += smoker[1]\n",
    "            num_smokers += 1\n",
    "        elif smoker[0] == 'no':\n",
    "            smoker_costs_non_smoker += smoker[1]\n",
    "            num_non_smokers += 1\n",
    "    \n",
    "    average_smoker_cost = smoker_costs_smoker / num_smokers\n",
    "    average_non_smoker_cost = smoker_costs_non_smoker / num_non_smokers\n",
    "    difference_smoker_costs = average_smoker_cost - average_non_smoker_cost\n",
    "    \n",
    "    print(\"The average smokers insurance cost is: \" + str(average_smoker_cost) + \" dollars.\")\n",
    "    print(\"The average non-smokers insurance cost is: \" + str(average_non_smoker_cost) + \" dollars.\")\n",
    "    print(\"The difference in costs on average is: \" + str(difference_smoker_costs) + \" dollars.\")\n",
    "\n",
    "print(average_cost_difference_smoker_vs_nonsmokers(smoker_costs))"
   ]
  },
  {
   "cell_type": "code",
   "execution_count": 18,
   "metadata": {},
   "outputs": [
    {
     "name": "stdout",
     "output_type": "stream",
     "text": [
      "The average age for someone with at least one child in the patient data set is: 39.8 years old.\n",
      "None\n"
     ]
    }
   ],
   "source": [
    "# Figure out what the average age is for someone who has at least one child in this dataset\n",
    "\n",
    "# Combine age and children\n",
    "\n",
    "age_with_children = list(zip(ages, children))\n",
    "\n",
    "# Define a function to calculate the average age for those with at least one child\n",
    "\n",
    "def average_age_atleast_1_child(lst):\n",
    "    sum_age_with_children = 0\n",
    "    patient_with_child = 0\n",
    "    \n",
    "    for patient in lst:\n",
    "        if patient[1] > 0:\n",
    "            sum_age_with_children += patient[0]\n",
    "            patient_with_child += 1\n",
    "    \n",
    "    average_age_with_1_or_more_child = round(sum_age_with_children / patient_with_child, 1)\n",
    "    \n",
    "    print(\"The average age for someone with at least one child in the patient data set is: \" + str(average_age_with_1_or_more_child) + \" years old.\")\n",
    "\n",
    "print(average_age_atleast_1_child(age_with_children))"
   ]
  },
  {
   "cell_type": "markdown",
   "metadata": {},
   "source": [
    "# Summary\n",
    "\n",
    "1. Total ammount of patients is 1338. 676 men and 662 women. \n",
    "2. The average age of the patients is: 39.2 years old\n",
    "3. Patients per area:\n",
    "- 325 in southwest. \n",
    "- 364 in southeast.\n",
    "- 325 in northwest.\n",
    "- 324 in northeast.\n",
    "4. Insurance costs:\n",
    "- The average smokers insurance cost is: 32050.23183153285 dollars.\n",
    "- The average non-smokers insurance cost is: 8434.268297856199 dollars.\n",
    "- The difference in costs on average is: 23615.96353367665 dollars.\n",
    "5. The average age for someone with at least one child in the patient data set is: 39.8 years old."
   ]
  }
 ],
 "metadata": {
  "kernelspec": {
   "display_name": "Python 3 (ipykernel)",
   "language": "python",
   "name": "python3"
  },
  "language_info": {
   "codemirror_mode": {
    "name": "ipython",
    "version": 3
   },
   "file_extension": ".py",
   "mimetype": "text/x-python",
   "name": "python",
   "nbconvert_exporter": "python",
   "pygments_lexer": "ipython3",
   "version": "3.11.4"
  }
 },
 "nbformat": 4,
 "nbformat_minor": 4
}
